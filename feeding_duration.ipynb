{
 "cells": [
  {
   "cell_type": "code",
   "execution_count": 1,
   "metadata": {},
   "outputs": [],
   "source": [
    "import matplotlib.pyplot as plt\n",
    "import os\n",
    "import pandas as pd\n",
    "from sklearn.linear_model import LinearRegression"
   ]
  },
  {
   "cell_type": "code",
   "execution_count": 2,
   "metadata": {},
   "outputs": [],
   "source": [
    "# read all files\n",
    "dfs = []\n",
    "for file in os.listdir(\"../dataset/dataset/\"):\n",
    "    dfs.append((file.split('.')[0], pd.read_excel(f\"../dataset/dataset/{file}\")))"
   ]
  },
  {
   "cell_type": "code",
   "execution_count": 3,
   "metadata": {},
   "outputs": [
    {
     "name": "stdout",
     "output_type": "stream",
     "text": [
      "1    2600\n",
      "0    2600\n",
      "Name: label, dtype: int64\n",
      "1    2288\n",
      "0    2288\n",
      "Name: label, dtype: int64\n",
      "1    1872\n",
      "0    1872\n",
      "Name: label, dtype: int64\n",
      "1    2756\n",
      "0    2756\n",
      "Name: label, dtype: int64\n",
      "1    1820\n",
      "0    1820\n",
      "Name: label, dtype: int64\n",
      "1    1456\n",
      "0    1456\n",
      "Name: label, dtype: int64\n",
      "1    1404\n",
      "0    1404\n",
      "Name: label, dtype: int64\n"
     ]
    }
   ],
   "source": [
    "for df in dfs:\n",
    "    print(df[1]['label'].value_counts())"
   ]
  },
  {
   "cell_type": "code",
   "execution_count": 4,
   "metadata": {},
   "outputs": [
    {
     "data": {
      "image/png": "[encoded data removed]",
      "text/plain": [
       "<Figure size 432x288 with 1 Axes>"
      ]
     },
     "metadata": {
      "needs_background": "light"
     },
     "output_type": "display_data"
    }
   ],
   "source": [
    "# check data shape\n",
    "dataset_name = []\n",
    "shapes = []\n",
    "for df in dfs:\n",
    "    dataset_name.append(df[0])\n",
    "    shapes.append(df[1].shape[0])\n",
    "plt.bar(dataset_name, shapes)\n",
    "plt.xlabel('Dataset')\n",
    "plt.ylabel('Number of data')\n",
    "plt.show()"
   ]
  },
  {
   "cell_type": "code",
   "execution_count": 5,
   "metadata": {},
   "outputs": [
    {
     "data": {
      "image/png": "[encoded data removed]",
      "text/plain": [
       "<Figure size 432x288 with 1 Axes>"
      ]
     },
     "metadata": {
      "needs_background": "light"
     },
     "output_type": "display_data"
    }
   ],
   "source": [
    "# check timestamp\n",
    "timestamps = []\n",
    "dataset_name = []\n",
    "for df in dfs:\n",
    "    timestamps.append(df[1].iloc[0]['timestamp'])\n",
    "    timestamps.append(df[1].iloc[-1]['timestamp'])\n",
    "    dataset_name.append(df[0])\n",
    "    dataset_name.append(df[0])\n",
    "for i in range(0, len(dataset_name), 2):\n",
    "    plt.plot(timestamps[i:i+2], dataset_name[i:i+2])\n",
    "plt.xlabel('Timestamps')\n",
    "plt.ylabel('Dataset')\n",
    "plt.show()"
   ]
  },
  {
   "cell_type": "code",
   "execution_count": 6,
   "metadata": {},
   "outputs": [
    {
     "data": {
      "image/png": "[encoded data removed]",
      "text/plain": [
       "<Figure size 432x288 with 1 Axes>"
      ]
     },
     "metadata": {
      "needs_background": "light"
     },
     "output_type": "display_data"
    }
   ],
   "source": [
    "# Regresi dari durasi makan ikan terurut berdasarkan timestamp\n",
    "durations = []\n",
    "for df in dfs:\n",
    "    durations.append((df[1].loc[0, 'timestamp'], df[1][df[1]['label'] == 0].iloc[0]['timestamp'] - df[1][df[1]['label'] == 1].iloc[0]['timestamp'], df[0]))\n",
    "durations.sort()\n",
    "timestamps = [[duration[0]] for duration in durations]\n",
    "dataset = [duration[2] for duration in durations]\n",
    "durations = [duration[1] for duration in durations]\n",
    "\n",
    "clf = LinearRegression().fit(timestamps, durations)\n",
    "regression = clf.predict(timestamps)\n",
    "\n",
    "plt.bar(dataset, durations, fill=False)\n",
    "plt.plot(dataset[::6], regression[::6])\n",
    "plt.xlabel('Dataset terurut berdasarkan timestamp')\n",
    "plt.ylabel('Durasi makan ikan')\n",
    "plt.show()"
   ]
  },
  {
   "cell_type": "code",
   "execution_count": 7,
   "metadata": {},
   "outputs": [
    {
     "data": {
      "text/plain": [
       "9.464"
      ]
     },
     "execution_count": 7,
     "metadata": {},
     "output_type": "execute_result"
    }
   ],
   "source": [
    "sum(durations)/1000/60"
   ]
  },
  {
   "cell_type": "code",
   "execution_count": 8,
   "metadata": {},
   "outputs": [
    {
     "data": {
      "text/plain": [
       "27.84"
      ]
     },
     "execution_count": 8,
     "metadata": {},
     "output_type": "execute_result"
    }
   ],
   "source": [
    "0.464*60"
   ]
  },
  {
   "cell_type": "code",
   "execution_count": null,
   "metadata": {},
   "outputs": [],
   "source": []
  }
 ],
 "metadata": {
  "kernelspec": {
   "display_name": "Python 3",
   "language": "python",
   "name": "python3"
  },
  "language_info": {
   "codemirror_mode": {
    "name": "ipython",
    "version": 3
   },
   "file_extension": ".py",
   "mimetype": "text/x-python",
   "name": "python",
   "nbconvert_exporter": "python",
   "pygments_lexer": "ipython3",
   "version": "3.8.5"
  }
 },
 "nbformat": 4,
 "nbformat_minor": 2
}
